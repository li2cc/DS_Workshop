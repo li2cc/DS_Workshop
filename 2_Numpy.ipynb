{
 "cells": [
  {
   "cell_type": "markdown",
   "metadata": {},
   "source": [
    "# Matrices and Linear Algebra \n",
    "\n",
    "This module reviews the basic matrix operation and statistics concepts that are widely used in manipulating, processing, and describing data. The topics in the module may seem diverse, covering a variety of matrix functions. Students should have been exposed to these topics in high school and college math curriculum. However, you don't have to learn the math again to be data scientist. Python Numpy and Scipy libraries provide rich functions to automat many math operations. The key is to understand the python APIs and how to packages. \n",
    "  <h3>      [Numpy Package](http://www.numpy.org)    </h3>\n",
    "NumPy is a well-developed Python package for scientific computing. It contains a powerful N-dimensional array object sophisticated (broadcasting) functions tools for integrating C/C++ and Fortran code useful linear algebra, Fourier transform, and random number capabilities Besides its obvious scientific uses, NumPy can also be used as an efficient multi-dimensional container of generic data. Arbitrary data-types can be defined. This allows NumPy to seamlessly and speedily integrate with a wide variety of databases.\n",
    "NumPy is licensed under the BSD license, enabling reuse with few restrictions.\n",
    "    # Numpy arrays and scalar\n",
    "    Why do we need arrays while we have Python lists?\n",
    "    1. Efficient operation - smaller storage spaces\n",
    "    2. Uniformed data type in array\n",
    "    3. Vectorization for faster computation \n",
    " NumPy's arrays are more compact than Python lists. Access in reading and writing items is also faster with NumPy. Today, we are dealing with large datasets, usually gigabytes or terabytes of data. With 64-bit architecture, NumPy would get away with 4 GB limits and has the capacity to process large datasets. \n",
    "“A Python list is an array of pointers to Python objects, at least 4 bytes per pointer plus 16 bytes for even the smallest Python object (4 for type pointer, 4 for reference count, 4 for value -- and the memory allocators rounds up to 16). A NumPy array is an array of uniform values -- single-precision numbers takes 4 bytes each, double-precision ones, 8 bytes. Less flexible, but you pay substantially for the flexibility of standard Python lists!” – Quoted from Python user forum. \n",
    "\n",
    "       "
   ]
  },
  {
   "cell_type": "code",
   "execution_count": 3,
   "metadata": {},
   "outputs": [
    {
     "name": "stdout",
     "output_type": "stream",
     "text": [
      "[1 3 5 7]\n",
      "['1' 'bc' '3' '4']\n",
      "[list([1, 2]) 3 {1: '4'}]\n",
      "<class 'numpy.ndarray'>\n",
      "(3,)\n",
      "[1, 2]\n"
     ]
    }
   ],
   "source": [
    "# Create an array\n",
    "import numpy as np\n",
    "\n",
    "#create an array from list\n",
    "a_array = np.array([1,3,5,7]) \n",
    "print(a_array)\n",
    "\n",
    "#convert existing list to array\n",
    "a_list = [2,4,6,8]\n",
    "a_array = np.array(a_list)  \n",
    "\n",
    "#auto conversion to uniform type\n",
    "b_list = [1,'bc','3',4]       \n",
    "b_array = np.array(b_list)  \n",
    "print(b_array)\n",
    "#include members in different data types\n",
    "#the matrix operations won't apply \n",
    "c_list = [[1,2],3,{1:'4'}]    \n",
    "c_array = np.array(c_list)   \n",
    "print(c_array)\n",
    "\n",
    "print(type(c_array))\n",
    "print(c_array.shape)\n",
    "print(c_array[0])"
   ]
  },
  {
   "cell_type": "code",
   "execution_count": 4,
   "metadata": {},
   "outputs": [
    {
     "name": "stdout",
     "output_type": "stream",
     "text": [
      "[[[  6.23042070e-307   7.56587584e-307   1.37961302e-306   6.89805830e-307]\n",
      "  [  1.06811422e-306   1.22383391e-307   8.01097889e-307   1.78020169e-306]\n",
      "  [  7.56601165e-307   1.02359984e-306   1.33510679e-306   2.22522597e-306]]\n",
      "\n",
      " [[  1.24611674e-306   1.29061821e-306   6.23057349e-307   2.22522597e-306]\n",
      "  [  1.06810268e-306   6.23052935e-307   2.22522053e-306   1.24611266e-306]\n",
      "  [  1.42418172e-306   1.37961641e-306   1.22383391e-307   8.45610231e-307]]]\n",
      "[[[ 0.  0.  0.  0.]\n",
      "  [ 0.  0.  0.  0.]\n",
      "  [ 0.  0.  0.  0.]]\n",
      "\n",
      " [[ 0.  0.  0.  0.]\n",
      "  [ 0.  0.  0.  0.]\n",
      "  [ 0.  0.  0.  0.]]]\n",
      "[[ 1.  0.  0.]\n",
      " [ 0.  1.  0.]\n",
      " [ 0.  0.  1.]\n",
      " [ 0.  0.  0.]]\n",
      "[[ 1.  0.  0.  0.]\n",
      " [ 0.  1.  0.  0.]\n",
      " [ 0.  0.  1.  0.]\n",
      " [ 0.  0.  0.  1.]]\n",
      "[ 50.   43.7  37.4  31.1  24.8]\n"
     ]
    }
   ],
   "source": [
    "# Create special arrays using built-in functions\n",
    "# empty, eye, identity, ones, zeros, full, arange \n",
    "# https://docs.scipy.org/doc/numpy/reference/routines.array-creation.html#from-existing-data \n",
    "\n",
    "# create 2x3x4 dimentional array without value signed\n",
    "print(np.empty([2,3,4]))   \n",
    "# create 2X3X4 dimentional array and assign 0 to all the 24 elements\n",
    "print(np.zeros([2,3,4])) \n",
    "#Return a 2-D array with ones on the diagonal and zeros elsewhere.\n",
    "#It's usually an NxN matrix for identity matrix\n",
    "print(np.eye(4,3))\n",
    "#another way to create identity matrix    \n",
    "print(np.identity(4))  \n",
    "#use arrange to create a 1D array \n",
    "print(np.arange(50,20,-6.3))  "
   ]
  },
  {
   "cell_type": "code",
   "execution_count": 5,
   "metadata": {},
   "outputs": [
    {
     "name": "stdout",
     "output_type": "stream",
     "text": [
      "[['2' '4' '6' '8']\n",
      " ['1' 'bc' '3' '4']]\n",
      "[[[ 0  1  2  3]\n",
      "  [ 4  5  6  7]\n",
      "  [ 8  9 10 11]]\n",
      "\n",
      " [[12 13 14 15]\n",
      "  [16 17 18 19]\n",
      "  [20 21 22 23]]]\n",
      "[[[ 0.09381765  0.41250077  0.08355602 -0.06732592]\n",
      "  [-0.45665131  0.57077646 -0.65198927  0.42812357]\n",
      "  [-0.98993859 -0.56754292 -0.36912467  1.05799949]]\n",
      "\n",
      " [[-0.22045461 -0.97600192 -0.01772387  1.27187213]\n",
      "  [-0.68619255  1.68921918 -0.55464025  0.06663586]\n",
      "  [ 1.00190346  0.63924077 -2.25594024  0.73882858]]]\n"
     ]
    }
   ],
   "source": [
    "# Multi-dimentional arrays\n",
    "\n",
    "# Create the multi-dimentional list first\n",
    "print(np.array([a_array,b_array]))  \n",
    "\n",
    "# Create multi-dimnetional array from reshaping a one-dimnetional array\n",
    "print(np.arange(24).reshape(2,3,4))\n",
    "\n",
    "print(np.random.randn(24).reshape(2,3,4))\n",
    "\n"
   ]
  },
  {
   "cell_type": "code",
   "execution_count": 6,
   "metadata": {},
   "outputs": [
    {
     "name": "stdout",
     "output_type": "stream",
     "text": [
      "The original matrix: \n",
      " [[9 4 3]\n",
      " [3 1 2]\n",
      " [6 4 9]]\n",
      "\n",
      "Sorted in the veritical direction: \n",
      " [[3 1 2]\n",
      " [6 4 3]\n",
      " [9 4 9]]\n",
      "\n",
      "Sorted in the horizontal direction: \n",
      " [[1 2 3]\n",
      " [3 4 6]\n",
      " [4 9 9]]\n",
      "The original matrix: \n",
      " [[9 4 3]\n",
      " [3 1 2]\n",
      " [6 4 9]]\n",
      "\n",
      "Sorted indexes in the veritical direction: \n",
      " [[1 1 1]\n",
      " [2 0 0]\n",
      " [0 2 2]]\n"
     ]
    }
   ],
   "source": [
    "#Use numpy sort() to sort matrix members' values \n",
    "\n",
    "#create a 2D array\n",
    "a = np.array([[9,4,3], [3,1,2], [6,4,9]])\n",
    "print(\"The original matrix: \\n\", a)\n",
    "\n",
    "#Sort the array in vertical direction\n",
    "a.sort(axis=0)\n",
    "print(\"\\nSorted in the veritical direction: \\n\",a)\n",
    "\n",
    "#sort the array in horizontal direction\n",
    "#the default axis is the last axis, in this case it's 1\n",
    "a.sort(axis=1)\n",
    "print(\"\\nSorted in the horizontal direction: \\n\", a)\n",
    "\n",
    "#We can also compare the values and return the index numbers of the result\n",
    "#argsort also take directions based on axises \n",
    "a = np.array([[9,4,3], [3,1,2], [6,4,9]])\n",
    "print(\"The original matrix: \\n\", a)\n",
    "print(\"\\nSorted indexes in the veritical direction: \\n\",a.argsort(axis=0))\n",
    "\n",
    "\n"
   ]
  },
  {
   "cell_type": "code",
   "execution_count": 7,
   "metadata": {},
   "outputs": [
    {
     "name": "stdout",
     "output_type": "stream",
     "text": [
      "[  2   3   4   7   0   0 123   0   2   0   0   4]\n",
      "[  0   2   3   4   7 123]\n",
      "[2, 3, 4, 7, 0, 0, 123, 0, 2, 0, 0, 4]\n",
      "[0, 2, 3, 4, 7, 123]\n"
     ]
    }
   ],
   "source": [
    "#let's explore the use of other numpy functions\n",
    "\n",
    "#create a 1D array from a list\n",
    "a = [2,3,4,7,-1,0, 123,-5,2,-6,-1,4]\n",
    "a = np.array(a)\n",
    "\n",
    "#convert all the negative numbers to 0 using np.where()\n",
    "a = np.where(a<0, 0, a)\n",
    "print(a)\n",
    "\n",
    "#make the array contain unique numbers only \n",
    "a = np.unique(a)\n",
    "print(a)\n",
    "\n",
    "#quiz: do not use where and unique to accomplish the above tasks\n",
    "a = [2,3,4,7,-1,0, 123,-5,2,-6,-1,4] \n",
    "#the for loop is in low-efficiency\n",
    "for index in range(len(a)):\n",
    "    if a[index] < 0:\n",
    "        a[index] = 0\n",
    "print(a)\n",
    "a = list(set(a))\n",
    "print(a)\n"
   ]
  },
  {
   "cell_type": "markdown",
   "metadata": {},
   "source": [
    "# Scalar (not Vector)\n",
    "\n",
    "\"The quantity is either a vector or a scalar. These two categories can be distinguished from one another by their distinct definitions: Scalars are quantities that are fully described by a magnitude (or numerical value) alone. Vectors are quantities that are fully described by both a magnitude and a direction. Vectors have magnitude and direction, scalars only have magnitude. By definition, speed is the scalar magnitude of a velocity vector. \"   \n",
    "                                                                            - physicsclassroom.com <br>\n",
    "The scalar here is a one-dimensional array, a record in a database table. But in other language, vectors and scalars are interchangeable. Here, I just want to specify the difference from the definition of these two terms. In data science, a dataset contains multiple scalars (records) in the horizontal direction (row direction). The number of rows are the number of records. \n",
    "When we imported an n x m dimension array directly from a data file, it usually means that there are n records of m-dimensional scalar. When you operate on arrays. It's good practice to write the shape of the arrays out first.\n"
   ]
  },
  {
   "cell_type": "code",
   "execution_count": 8,
   "metadata": {},
   "outputs": [
    {
     "name": "stdout",
     "output_type": "stream",
     "text": [
      "[[1 2 3]\n",
      " [4 5 6]]\n",
      "(2, 3)\n",
      "[[ 1.          0.5         0.33333333]\n",
      " [ 0.25        0.2         0.16666667]]\n",
      "(2, 3)\n"
     ]
    }
   ],
   "source": [
    "# let's create two 2 x 3 arrays\n",
    "a_array = np.array([[1,2,3],[4,5,6]])\n",
    "b_array = 1/a_array\n",
    "\n",
    "print(a_array)\n",
    "print(a_array.shape)\n",
    "print(b_array)\n",
    "print(b_array.shape)"
   ]
  },
  {
   "cell_type": "code",
   "execution_count": 9,
   "metadata": {},
   "outputs": [
    {
     "name": "stdout",
     "output_type": "stream",
     "text": [
      "[[ 1.  1.  1.]\n",
      " [ 1.  1.  1.]]\n",
      "[[ 1.  1.  1.]\n",
      " [ 1.  1.  1.]]\n",
      "[[  1.   4.   9.]\n",
      " [ 16.  25.  36.]]\n",
      "[[  1.   4.   9.]\n",
      " [ 16.  25.  36.]]\n",
      "[[ 2.          2.5         3.33333333]\n",
      " [ 4.25        5.2         6.16666667]]\n",
      "[[ 2.          2.5         3.33333333]\n",
      " [ 4.25        5.2         6.16666667]]\n",
      "[[ 0.          1.5         2.66666667]\n",
      " [ 3.75        4.8         5.83333333]]\n",
      "[[ 0.          1.5         2.66666667]\n",
      " [ 3.75        4.8         5.83333333]]\n",
      "[[ 1  4  9]\n",
      " [16 25 36]]\n",
      "[[ 1  4  9]\n",
      " [16 25 36]]\n",
      "[[1 2 3]\n",
      " [4 5 6]]\n"
     ]
    }
   ],
   "source": [
    "# It's look at the numerical operations on numbers (integers, float numbers ...), we can use the \n",
    "# same set of operations on arrays. Another way to think it is that a number is 1 x 1 array. \n",
    "\n",
    "print(a_array*b_array)\n",
    "print(np.multiply(a_array,b_array))\n",
    "\n",
    "print(a_array/b_array)\n",
    "print(np.divide(a_array,b_array))\n",
    "\n",
    "print(a_array+b_array)\n",
    "print(np.add(a_array,b_array))\n",
    "\n",
    "print(a_array-b_array)\n",
    "print(np.subtract(a_array,b_array))\n",
    "\n",
    "print(a_array**2)\n",
    "print(np.power(a_array,2))\n",
    "\n",
    "print(a_array)\n",
    "\n",
    "\n"
   ]
  },
  {
   "cell_type": "code",
   "execution_count": 10,
   "metadata": {},
   "outputs": [
    {
     "name": "stdout",
     "output_type": "stream",
     "text": [
      "[[1 2 3]\n",
      " [4 5 6]]\n",
      "6\n",
      "1\n",
      "3.5\n",
      "3.5\n",
      "21\n",
      "2.91666666667\n",
      "[1 2 3]\n",
      "[ 2.5  3.5  4.5]\n",
      "[5 7 9]\n",
      "268.7\n",
      "272.5\n",
      "412.5\n",
      "10793.01\n",
      "103.889412358\n",
      "103.88941235756414\n"
     ]
    }
   ],
   "source": [
    "# Find, calculate values within array\n",
    "print(a_array)\n",
    "print(np.max(a_array))\n",
    "print(np.min(a_array))\n",
    "print(np.average(a_array))\n",
    "print(np.mean(a_array))\n",
    "print(np.sum(a_array)) \n",
    "print(np.var(a_array))\n",
    "\n",
    "# only calculate along one direction by defining axis\n",
    "print(np.min(a_array, axis=0))\n",
    "print(np.mean(a_array,axis=0))\n",
    "print(np.sum(a_array, axis=0))\n",
    "\n",
    "#find statistical properties of data\n",
    "data = np.random.randint(100, 500, 10)\n",
    "print(np.mean(data))\n",
    "print(np.median(data))\n",
    "print(np.percentile(data,90))\n",
    "print(np.var(data))\n",
    "print(np.std(data))\n",
    "\n",
    "import math\n",
    "print(math.sqrt(np.var(data)))\n",
    "\n",
    "\n",
    "\n",
    "\n"
   ]
  },
  {
   "cell_type": "code",
   "execution_count": 11,
   "metadata": {},
   "outputs": [
    {
     "name": "stdout",
     "output_type": "stream",
     "text": [
      "[[1 4]\n",
      " [2 5]\n",
      " [3 6]]\n",
      "[[14 32]\n",
      " [32 77]]\n",
      "[[14 32]\n",
      " [32 77]]\n"
     ]
    }
   ],
   "source": [
    "# Matrix multiplication \n",
    "# n x m * m x l => n x l\n",
    "#np.dot(a_array,b_array)\n",
    "\n",
    "a_array_T = a_array.T\n",
    "print(a_array_T)\n",
    "print(np.dot(a_array, a_array_T))   # 2x3 * 3x2 => 2x2\n",
    "print(a_array.dot(a_array_T))       # both np.dot or array.dot work"
   ]
  },
  {
   "cell_type": "code",
   "execution_count": 12,
   "metadata": {},
   "outputs": [],
   "source": [
    "#slicing \n",
    "#similiar to Lists, slicing can be done on matrices \n",
    "a_array=np.array([[1,2],[3,4],[5,6]])"
   ]
  },
  {
   "cell_type": "code",
   "execution_count": 6,
   "metadata": {},
   "outputs": [
    {
     "data": {
      "text/plain": [
       "array([[1, 2],\n",
       "       [3, 4],\n",
       "       [5, 6]])"
      ]
     },
     "execution_count": 6,
     "metadata": {},
     "output_type": "execute_result"
    }
   ],
   "source": [
    "a_array"
   ]
  },
  {
   "cell_type": "code",
   "execution_count": 14,
   "metadata": {},
   "outputs": [
    {
     "name": "stdout",
     "output_type": "stream",
     "text": [
      "3\n",
      "3\n",
      "[[2]\n",
      " [4]]\n"
     ]
    }
   ],
   "source": [
    "print(a_array[1,0])\n",
    "print(a_array[1][0])\n",
    "print(a_array[:2,1:])"
   ]
  },
  {
   "cell_type": "code",
   "execution_count": 14,
   "metadata": {},
   "outputs": [
    {
     "name": "stdout",
     "output_type": "stream",
     "text": [
      "[[ 0.35372813  0.8150995   0.80097182]\n",
      " [ 0.68330854  0.3366397   0.87002891]\n",
      " [ 0.16780693  0.76051358  0.39730775]]\n"
     ]
    }
   ],
   "source": [
    "# a little algebra\n",
    "# get the inverse of a SQUARE matrix\n",
    "\n",
    "#import linalg module from scipy library which is built on top of numpy\n",
    "from numpy import linalg\n",
    "\n",
    "# generate a random 3 x 3 squre array\n",
    "a_array=np.random.rand(3,3)\n",
    "print(a_array)\n",
    "\n",
    "\n"
   ]
  },
  {
   "cell_type": "code",
   "execution_count": 15,
   "metadata": {},
   "outputs": [
    {
     "name": "stdout",
     "output_type": "stream",
     "text": [
      "[[-6.44071916  3.48077246  5.36224586]\n",
      " [-1.53096503  0.07479099  2.922645  ]\n",
      " [ 5.65082602 -1.61330175 -5.34228996]]\n"
     ]
    }
   ],
   "source": [
    "a_inv = linalg.inv(a_array)\n",
    "print(a_inv)"
   ]
  },
  {
   "cell_type": "code",
   "execution_count": 16,
   "metadata": {},
   "outputs": [
    {
     "name": "stdout",
     "output_type": "stream",
     "text": [
      "[[  1.00000000e+00   2.22044605e-16  -8.88178420e-16]\n",
      " [  0.00000000e+00   1.00000000e+00   0.00000000e+00]\n",
      " [  4.44089210e-16  -1.11022302e-16   1.00000000e+00]]\n"
     ]
    }
   ],
   "source": [
    "print(a_array.dot(a_inv))"
   ]
  },
  {
   "cell_type": "code",
   "execution_count": 18,
   "metadata": {},
   "outputs": [
    {
     "name": "stdout",
     "output_type": "stream",
     "text": [
      "[ 2.]\n",
      "[ 2.   3.   0.5]\n",
      "[ -3.55271368e-15   0.00000000e+00  -3.55271368e-15]\n",
      "[ 2.   3.   0.5]\n"
     ]
    }
   ],
   "source": [
    "#Exercise: use inverse of a matrix to solve linear equation \n",
    "# https://docs.scipy.org/doc/numpy/reference/generated/numpy.linalg.solve.html\n",
    "# solve the equation a x = b for x =>  x = b/a = a to the power of -1 times b\n",
    "# now, let's consider a and b are matrics (b is a scalar -> n by 1 matrix)\n",
    "# Let's start from a simple one 5x = 10 --> x = 2\n",
    "a = np.array([[5]])  #make sure a is a n by n square matrix [[]]\n",
    "b = np.array([10])\n",
    "x = linalg.inv(a).dot(b)\n",
    "print(x)\n",
    "\n",
    "# Let's solve a real problem \n",
    "'''\n",
    "answer is 2,3, 0.5 \n",
    "\n",
    "5*x1 + 2.5*x2+ 4*x3 =  19.5\n",
    "1.4*x1 + 2*x2 -1*x3 =  8.3\n",
    "12*x1 -3*x2 -6*x3 =  12 \n",
    "\n",
    "'''\n",
    "\n",
    "a = np.array([[5, 2.5, 4], [1.4, 2, -1], [12, -3, -6]])\n",
    "b = np.array([19.5, 8.3, 12])\n",
    "x = linalg.inv(a).dot(b)\n",
    "print(x)\n",
    "print(a.dot(x)-b)  #verification: the result should be close to a scalar of zeros\n",
    "\n",
    "#a faster and easier way to do it is to use .slove(a,b), but you have to know such such functions exist\n",
    "# the rule of thumb is that if they exist, use them, don't re-invent the wheels\n",
    "x1 = np.linalg.solve(a,b)\n",
    "print(x1)\n",
    "\n",
    "\n",
    "\n"
   ]
  },
  {
   "cell_type": "code",
   "execution_count": null,
   "metadata": {
    "collapsed": true
   },
   "outputs": [],
   "source": [
    "#Assignment:\n",
    "\n",
    "def anomaly_detection(x):\n",
    "    import math\n",
    "    found = True\n",
    "    while found: \n",
    "        for i in range(len(x)): \n",
    "            mean = (np.mean(x)*len(x)-x[i])/(len(x)-1)\n",
    "            std = math.sqrt((np.std(x)**2*len(x)-(x[i]-mean)**2)/(len(x)-1))\n",
    "            distance = abs((x[i]-mean)/std)\n",
    "            if distance > 3:\n",
    "                print(\"Remove {:6.2f} from the list because it's {:3.2f} times of standard deviation of the list without it.\".format(x[i],distance)) \n",
    "                print(\"{:6.2f} is removed from the list!\\n\".format(x[i]))\n",
    "                x = np.delete(x,i)\n",
    "                found=True\n",
    "                break\n",
    "            found = False\n",
    "\n",
    "    print(\"No more anomaly is detected!\")"
   ]
  },
  {
   "cell_type": "code",
   "execution_count": null,
   "metadata": {},
   "outputs": [],
   "source": []
  }
 ],
 "metadata": {
  "anaconda-cloud": {},
  "kernelspec": {
   "display_name": "Python 3",
   "language": "python",
   "name": "python3"
  },
  "language_info": {
   "codemirror_mode": {
    "name": "ipython",
    "version": 3
   },
   "file_extension": ".py",
   "mimetype": "text/x-python",
   "name": "python",
   "nbconvert_exporter": "python",
   "pygments_lexer": "ipython3",
   "version": "3.6.8"
  }
 },
 "nbformat": 4,
 "nbformat_minor": 1
}
